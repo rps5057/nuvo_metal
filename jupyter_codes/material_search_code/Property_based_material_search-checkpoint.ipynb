{
 "cells": [
  {
   "cell_type": "code",
   "execution_count": 117,
   "id": "189b2290",
   "metadata": {},
   "outputs": [],
   "source": [
    "import pandas as pd"
   ]
  },
  {
   "cell_type": "code",
   "execution_count": 118,
   "id": "d1115b0b",
   "metadata": {},
   "outputs": [],
   "source": [
    "#import numpy as np"
   ]
  },
  {
   "cell_type": "code",
   "execution_count": 119,
   "id": "a05fd542",
   "metadata": {},
   "outputs": [],
   "source": [
    "column_names = ['Material', 'Melting Point', 'Thermal Conductivity', 'Density', 'Specific Heat', 'Product Index']"
   ]
  },
  {
   "cell_type": "code",
   "execution_count": 120,
   "id": "103c19e0",
   "metadata": {},
   "outputs": [],
   "source": [
    "md = pd.read_excel('./Data_files/Thermal_properties.xlsx', names=column_names, skiprows=[0])"
   ]
  },
  {
   "cell_type": "code",
   "execution_count": 121,
   "id": "7875a65c",
   "metadata": {},
   "outputs": [],
   "source": [
    "md1 = md.drop(['Product Index'], axis = 1)"
   ]
  },
  {
   "cell_type": "code",
   "execution_count": 122,
   "id": "63048753",
   "metadata": {},
   "outputs": [],
   "source": [
    "md_null = md1[md1.loc[:,['Melting Point', 'Thermal Conductivity', 'Density', 'Specific Heat']].isnull().all(1)]"
   ]
  },
  {
   "cell_type": "code",
   "execution_count": 123,
   "id": "1375c4d1",
   "metadata": {},
   "outputs": [
    {
     "data": {
      "text/plain": [
       "21"
      ]
     },
     "execution_count": 123,
     "metadata": {},
     "output_type": "execute_result"
    }
   ],
   "source": [
    "len(md_null)"
   ]
  },
  {
   "cell_type": "code",
   "execution_count": 124,
   "id": "381e241b",
   "metadata": {},
   "outputs": [],
   "source": [
    "mat_types = ['Metals', 'Plastics', 'Woods','Hardwood', 'Softwood', 'Misc Wood', 'Miscellaneous']"
   ]
  },
  {
   "cell_type": "code",
   "execution_count": 125,
   "id": "cde2eb05",
   "metadata": {},
   "outputs": [],
   "source": [
    "mat_type_idxs = [0, 22, 53, 54, 66, 83, 89, len(md1)]"
   ]
  },
  {
   "cell_type": "code",
   "execution_count": 126,
   "id": "e9a9c459",
   "metadata": {},
   "outputs": [],
   "source": [
    "def add_material_type(df, initial,next_id , mat_type ):\n",
    "    final = next_id-1\n",
    "    df.loc[initial:final,'Material Type'] = mat_type"
   ]
  },
  {
   "cell_type": "code",
   "execution_count": 127,
   "id": "e3e26744",
   "metadata": {},
   "outputs": [],
   "source": [
    "\n",
    "for idx in range(len(mat_type_idxs)-1):\n",
    "    left = mat_type_idxs[idx]\n",
    "    right = mat_type_idxs[idx+1]\n",
    "    add_material_type(md1, left, right, mat_types[idx])\n"
   ]
  },
  {
   "cell_type": "code",
   "execution_count": null,
   "id": "590511d4",
   "metadata": {},
   "outputs": [],
   "source": []
  },
  {
   "cell_type": "code",
   "execution_count": 128,
   "id": "11523181",
   "metadata": {},
   "outputs": [],
   "source": [
    "md1.drop(md1[md1.loc[:,['Melting Point', 'Thermal Conductivity', 'Density', 'Specific Heat']].isnull().all(1)].index,\n",
    "               axis=0, inplace=True)"
   ]
  },
  {
   "cell_type": "code",
   "execution_count": 141,
   "id": "4f283660",
   "metadata": {},
   "outputs": [],
   "source": [
    "md1 = md1.reset_index(drop=True)"
   ]
  },
  {
   "cell_type": "code",
   "execution_count": 130,
   "id": "d09adfbc",
   "metadata": {},
   "outputs": [],
   "source": [
    "numerical_data_columns = ['Melting Point', 'Thermal Conductivity', 'Density', 'Specific Heat']"
   ]
  },
  {
   "cell_type": "code",
   "execution_count": 157,
   "id": "047de59a",
   "metadata": {},
   "outputs": [],
   "source": [
    "def check_if_integer_values(df,column_name):\n",
    "    print('\\nIn the column:',column_name)\n",
    "    flag = 0\n",
    "    for index in range(0,len(df)):\n",
    "        element_value = df.loc[index,column_name]\n",
    "        condition_1 = isinstance(element_value, int)\n",
    "        condition_2 = isinstance(element_value, float)\n",
    "        if condition_1==False and condition_2==False:\n",
    "            print('\\tindex = ', index,' Value = ', element_value, 'Not integer or float')\n",
    "            flag = 1\n",
    "    if flag==0:\n",
    "        print('\\tAll values are integers or float')"
   ]
  },
  {
   "cell_type": "code",
   "execution_count": 158,
   "id": "aa1e50ee",
   "metadata": {},
   "outputs": [
    {
     "name": "stdout",
     "output_type": "stream",
     "text": [
      "\n",
      "In the column: Melting Point\n",
      "All values are integers or float\n",
      "\n",
      "In the column: Thermal Conductivity\n",
      "index =  45  Value =  0.15-1.3 Not integer or float\n",
      "index =  51  Value =  0.1-0.4 Not integer or float\n",
      "index =  68  Value =  0.12-0.04 Not integer or float\n",
      "\n",
      "In the column: Density\n",
      "All values are integers or float\n",
      "\n",
      "In the column: Specific Heat\n",
      "All values are integers or float\n"
     ]
    }
   ],
   "source": [
    "for element in numerical_data_columns:\n",
    "    check_if_integer_values(md1,element)"
   ]
  },
  {
   "cell_type": "code",
   "execution_count": null,
   "id": "8887e008",
   "metadata": {},
   "outputs": [],
   "source": []
  }
 ],
 "metadata": {
  "kernelspec": {
   "display_name": "Python 3 (ipykernel)",
   "language": "python",
   "name": "python3"
  },
  "language_info": {
   "codemirror_mode": {
    "name": "ipython",
    "version": 3
   },
   "file_extension": ".py",
   "mimetype": "text/x-python",
   "name": "python",
   "nbconvert_exporter": "python",
   "pygments_lexer": "ipython3",
   "version": "3.9.15"
  }
 },
 "nbformat": 4,
 "nbformat_minor": 5
}
