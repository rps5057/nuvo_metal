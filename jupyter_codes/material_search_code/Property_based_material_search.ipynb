{
 "cells": [
  {
   "cell_type": "code",
   "execution_count": 1,
   "id": "b36f6eaf",
   "metadata": {},
   "outputs": [],
   "source": [
    "import pandas as pd"
   ]
  },
  {
   "cell_type": "code",
   "execution_count": 2,
   "id": "c4c2a48e",
   "metadata": {},
   "outputs": [],
   "source": [
    "import numpy as np"
   ]
  },
  {
   "cell_type": "code",
   "execution_count": 3,
   "id": "607cee75",
   "metadata": {},
   "outputs": [],
   "source": [
    "from copy import deepcopy"
   ]
  },
  {
   "cell_type": "code",
   "execution_count": 4,
   "id": "9fa7183d",
   "metadata": {},
   "outputs": [],
   "source": [
    "from pprint import pprint"
   ]
  },
  {
   "cell_type": "code",
   "execution_count": 5,
   "id": "e3715cca",
   "metadata": {},
   "outputs": [],
   "source": [
    "column_names = ['Material', 'Melting Point', 'Thermal Conductivity', 'Density', 'Specific Heat', 'Product Index']"
   ]
  },
  {
   "cell_type": "code",
   "execution_count": 6,
   "id": "fd1295de",
   "metadata": {},
   "outputs": [],
   "source": [
    "md = pd.read_excel('./Data_files/Thermal_properties.xlsx', names=column_names, skiprows=[0])"
   ]
  },
  {
   "cell_type": "code",
   "execution_count": 7,
   "id": "74706bb9",
   "metadata": {},
   "outputs": [],
   "source": [
    "md1 = md.drop(['Product Index'], axis = 1)"
   ]
  },
  {
   "cell_type": "code",
   "execution_count": 8,
   "id": "239e890a",
   "metadata": {},
   "outputs": [],
   "source": [
    "md_null = md1[md1.loc[:,['Melting Point', 'Thermal Conductivity', 'Density', 'Specific Heat']].isnull().all(1)]"
   ]
  },
  {
   "cell_type": "code",
   "execution_count": 9,
   "id": "9a02bab3",
   "metadata": {},
   "outputs": [
    {
     "data": {
      "text/plain": [
       "21"
      ]
     },
     "execution_count": 9,
     "metadata": {},
     "output_type": "execute_result"
    }
   ],
   "source": [
    "len(md_null)"
   ]
  },
  {
   "cell_type": "code",
   "execution_count": 10,
   "id": "67813ad0",
   "metadata": {},
   "outputs": [],
   "source": [
    "mat_types = ['Metals', 'Plastics', 'Woods','Hardwood', 'Softwood', 'Misc Wood', 'Miscellaneous']"
   ]
  },
  {
   "cell_type": "code",
   "execution_count": 11,
   "id": "a0fd8d86",
   "metadata": {},
   "outputs": [],
   "source": [
    "mat_type_idxs = [0, 22, 53, 54, 66, 83, 89, len(md1)]"
   ]
  },
  {
   "cell_type": "code",
   "execution_count": 12,
   "id": "c4683db7",
   "metadata": {},
   "outputs": [],
   "source": [
    "def add_material_type(df, initial,next_id , mat_type ):\n",
    "    final = next_id-1\n",
    "    df.loc[initial:final,'Material Type'] = mat_type"
   ]
  },
  {
   "cell_type": "markdown",
   "id": "70fa1706",
   "metadata": {},
   "source": [
    "#### XXXXXXXXXXXXXXXXXXXXXXXXXXXXXXXXXXXXXXXXXXXXXXXXXXXXXXXXXXXXXXXXXXXXXXXXXXXXXXXXXXXXXXXXXXXXXXXXXXXXXXXX"
   ]
  },
  {
   "cell_type": "markdown",
   "id": "6f992d2b",
   "metadata": {},
   "source": [
    "### Removing rows with no data"
   ]
  },
  {
   "cell_type": "code",
   "execution_count": 37,
   "id": "1462cab8",
   "metadata": {},
   "outputs": [],
   "source": [
    "\n",
    "for idx in range(len(mat_type_idxs)-1):\n",
    "    left = mat_type_idxs[idx]\n",
    "    right = mat_type_idxs[idx+1]\n",
    "    add_material_type(md1, left, right, mat_types[idx])\n"
   ]
  },
  {
   "cell_type": "code",
   "execution_count": 14,
   "id": "0d3d5a0d",
   "metadata": {},
   "outputs": [],
   "source": [
    "md1.drop(md1[md1.loc[:,['Melting Point', 'Thermal Conductivity', 'Density', 'Specific Heat']].isnull().all(1)].index,\n",
    "               axis=0, inplace=True)"
   ]
  },
  {
   "cell_type": "code",
   "execution_count": 15,
   "id": "77dde03b",
   "metadata": {},
   "outputs": [],
   "source": [
    "md1 = md1.reset_index(drop=True)"
   ]
  },
  {
   "cell_type": "markdown",
   "id": "1f811884",
   "metadata": {},
   "source": [
    "#### XXXXXXXXXXXXXXXXXXXXXXXXXXXXXXXXXXXXXXXXXXXXXXXXXXXXXXXXXXXXXXXXXXXXXXXXXXXXXXXXXXXXXXXXXXXXXXXXXXXXXXXX"
   ]
  },
  {
   "cell_type": "markdown",
   "id": "011b24a4",
   "metadata": {},
   "source": [
    "### Removing non integer/float values from database"
   ]
  },
  {
   "cell_type": "code",
   "execution_count": 16,
   "id": "33c1a49e",
   "metadata": {},
   "outputs": [],
   "source": [
    "numerical_data_columns = ['Melting Point', 'Thermal Conductivity', 'Density', 'Specific Heat']"
   ]
  },
  {
   "cell_type": "code",
   "execution_count": 17,
   "id": "bfb75fc6",
   "metadata": {},
   "outputs": [
    {
     "data": {
      "text/plain": [
       "array([45, 51, 68], dtype=int64)"
      ]
     },
     "execution_count": 17,
     "metadata": {},
     "output_type": "execute_result"
    }
   ],
   "source": [
    "md1[md1['Thermal Conductivity'].map(type) == str].index.values"
   ]
  },
  {
   "cell_type": "code",
   "execution_count": 18,
   "id": "044c2cfa",
   "metadata": {},
   "outputs": [
    {
     "name": "stdout",
     "output_type": "stream",
     "text": [
      "[]\n",
      "[45, 51, 68]\n",
      "[]\n",
      "[]\n"
     ]
    }
   ],
   "source": [
    "col_bad_indices_dict = {}\n",
    "\n",
    "for element in numerical_data_columns:\n",
    "    print(list(md1[md1[element].map(type) == str].index))\n",
    "    #print((md1[md1[element].map(type) == str].index.values))         # old syntax, now to be depricated, .values\n",
    "    col_bad_indices_dict[element] = list(md1[md1[element].map(type) == str].index)\n",
    "    \n",
    "#     check_if_integer_values(md1,element)"
   ]
  },
  {
   "cell_type": "code",
   "execution_count": 19,
   "id": "2d438818",
   "metadata": {},
   "outputs": [
    {
     "data": {
      "text/plain": [
       "{'Melting Point': [],\n",
       " 'Thermal Conductivity': [45, 51, 68],\n",
       " 'Density': [],\n",
       " 'Specific Heat': []}"
      ]
     },
     "execution_count": 19,
     "metadata": {},
     "output_type": "execute_result"
    }
   ],
   "source": [
    "col_bad_indices_dict"
   ]
  },
  {
   "cell_type": "code",
   "execution_count": 20,
   "id": "44b8363b",
   "metadata": {},
   "outputs": [
    {
     "name": "stdout",
     "output_type": "stream",
     "text": [
      "Melting Point column has no bad data cells\n",
      "Thermal Conductivity column has bad data cells\n",
      "Thermal Conductivity column bad data cells have been droped\n",
      "Density column has no bad data cells\n",
      "Specific Heat column has no bad data cells\n"
     ]
    }
   ],
   "source": [
    "for element in col_bad_indices_dict:\n",
    "    if col_bad_indices_dict[element]:\n",
    "        print(element, 'column has bad data cells')\n",
    "        md1.drop(col_bad_indices_dict[element], axis=0, inplace=True)\n",
    "        print(element, 'column bad data cells have been droped')\n",
    "        continue\n",
    "    \n",
    "    print(element, 'column has no bad data cells')"
   ]
  },
  {
   "cell_type": "code",
   "execution_count": 21,
   "id": "7912084c",
   "metadata": {},
   "outputs": [],
   "source": [
    "md1.reset_index(drop=True, inplace=True)        # inplace=True eliminates the need to reassign md1 values,\n",
    "                                                #it maked the changes to md1 DataFrame object itself"
   ]
  },
  {
   "cell_type": "code",
   "execution_count": 22,
   "id": "14743788",
   "metadata": {},
   "outputs": [
    {
     "name": "stdout",
     "output_type": "stream",
     "text": [
      "<class 'pandas.core.frame.DataFrame'>\n",
      "RangeIndex: 78 entries, 0 to 77\n",
      "Data columns (total 6 columns):\n",
      " #   Column                Non-Null Count  Dtype  \n",
      "---  ------                --------------  -----  \n",
      " 0   Material              78 non-null     object \n",
      " 1   Melting Point         24 non-null     float64\n",
      " 2   Thermal Conductivity  66 non-null     object \n",
      " 3   Density               62 non-null     float64\n",
      " 4   Specific Heat         48 non-null     float64\n",
      " 5   Material Type         78 non-null     object \n",
      "dtypes: float64(3), object(3)\n",
      "memory usage: 3.8+ KB\n"
     ]
    }
   ],
   "source": [
    "md1.info()"
   ]
  },
  {
   "cell_type": "markdown",
   "id": "d4ac6d91",
   "metadata": {},
   "source": [
    "#### XXXXXXXXXXXXXXXXXXXXXXXXXXXXXXXXXXXXXXXXXXXXXXXXXXXXXXXXXXXXXXXXXXXXXXXXXXXXXXXXXXXXXXXXXXXXXXXXXXXXXXXX"
   ]
  },
  {
   "cell_type": "code",
   "execution_count": 23,
   "id": "568dca90",
   "metadata": {},
   "outputs": [],
   "source": [
    "md1['Thermal Conductivity'] = md1['Thermal Conductivity'].astype(float)"
   ]
  },
  {
   "cell_type": "markdown",
   "id": "aa797a8c",
   "metadata": {},
   "source": [
    "## Version 1.0 : Material search based on user entered property and range"
   ]
  },
  {
   "cell_type": "code",
   "execution_count": 35,
   "id": "45aac671",
   "metadata": {},
   "outputs": [],
   "source": [
    "def ask_user_input():\n",
    "    print('Following is the list of available properties:')\n",
    "\n",
    "    for serial in range(len(numerical_data_columns)):\n",
    "        print('\\t',serial+1,numerical_data_columns[serial])\n",
    "    try:\n",
    "        mat_property_serial = int(input('Please enter index of the property for your material search: '))\n",
    "    except Exception as e:\n",
    "        print(e)\n",
    "        return -1,-1,-1\n",
    "    #global mat_property_index\n",
    "    mat_property_index = (mat_property_serial - 1)\n",
    "    if mat_property_index > len(md1):\n",
    "        print('Please enter valid index')\n",
    "        \n",
    "    #global property_min_value \n",
    "    property_min_value = float(input(print('Enter the lower limit for',numerical_data_columns[mat_property_index],':')))\n",
    "    #global property_max_value\n",
    "    property_max_value = float(input(print('Enter the upper limit for',numerical_data_columns[mat_property_index],':')))\n",
    "    return mat_property_index, property_min_value, property_max_value"
   ]
  },
  {
   "cell_type": "code",
   "execution_count": 25,
   "id": "6354d772",
   "metadata": {},
   "outputs": [],
   "source": [
    "def material_search(property_name,  property_value_lower_limit, property_value_upper_limit):\n",
    "    mat_search_criteria_1 = md1[property_name] > property_value_lower_limit\n",
    "    mat_search_criteria_2 = md1[property_name] < property_value_upper_limit\n",
    "#     try:\n",
    "#         print(property_name, md1[property_name].head())\n",
    "#    print(property_value_lower_limit, property_value_upper_limit)\n",
    "        \n",
    "#         print(md1.head(), mat_search_criteria_1)\n",
    "    result = md1[(mat_search_criteria_1) & (mat_search_criteria_2)]\n",
    "    return result.loc[:,['Material',property_name]]\n",
    "#         print(md1[(md1[property_name] > property_value_lower_limit) & (md1[property_name] < property_value_upper_limit)])\n",
    "#     except Exception as e:\n",
    "#         print(e)"
   ]
  },
  {
   "cell_type": "code",
   "execution_count": 36,
   "id": "4cb3bdb5",
   "metadata": {},
   "outputs": [
    {
     "name": "stdout",
     "output_type": "stream",
     "text": [
      "Following is the list of available properties:\n",
      "\t 1 Melting Point\n",
      "\t 2 Thermal Conductivity\n",
      "\t 3 Density\n",
      "\t 4 Specific Heat\n",
      "Please enter index of the property for your material search: k\n",
      "invalid literal for int() with base 10: 'k'\n",
      "Please enter valid input\n",
      "Following is the list of available properties:\n",
      "\t 1 Melting Point\n",
      "\t 2 Thermal Conductivity\n",
      "\t 3 Density\n",
      "\t 4 Specific Heat\n",
      "Please enter index of the property for your material search: 3\n",
      "Enter the lower limit for Density :\n",
      "None1\n",
      "Enter the upper limit for Density :\n",
      "None2\n",
      "Empty DataFrame\n",
      "Columns: [Material, Density]\n",
      "Index: []\n",
      "Do you want to search for another property? enter y/n: n\n",
      "Your search is complete\n"
     ]
    }
   ],
   "source": [
    "while True:\n",
    "    mat_property_index, property_min_value, property_max_value = ask_user_input()\n",
    "    if mat_property_index == -1:\n",
    "        print('Please enter valid input')\n",
    "        continue\n",
    "    md1_search_result = material_search(numerical_data_columns[mat_property_index], property_min_value, property_max_value)\n",
    "    print(md1_search_result)\n",
    "    next_loop_user_input = input('Do you want to search for another property? enter y/n: ')\n",
    "    if next_loop_user_input != 'y' and next_loop_user_input != 'n':\n",
    "        next_loop_user_input = input('Please enter valid input, y/n: ')\n",
    "    elif next_loop_user_input == 'n':\n",
    "            print('Your search is complete')\n",
    "            break\n",
    "    elif next_loop_user_input == 'y':\n",
    "            continue\n",
    "    else:\n",
    "        print('Some error has occurred')\n",
    "        break"
   ]
  },
  {
   "cell_type": "markdown",
   "id": "88003fd8",
   "metadata": {},
   "source": [
    "#### XXXXXXXXXXXXXXXXXXXXXXXXXXXXXXXXXXXXXXXXXXXXXXXXXXXXXXXXXXXXXXXXXXXXXXXXXXXXXXXXXXXXXXXXXXXXXXXXXXXXXXXX"
   ]
  },
  {
   "cell_type": "code",
   "execution_count": 235,
   "id": "6d8c7f81",
   "metadata": {},
   "outputs": [
    {
     "data": {
      "text/plain": [
       "Melting Point           1670.0\n",
       "Thermal Conductivity     237.0\n",
       "Density                 8238.0\n",
       "Specific Heat              6.3\n",
       "dtype: float64"
      ]
     },
     "execution_count": 235,
     "metadata": {},
     "output_type": "execute_result"
    }
   ],
   "source": [
    "md1.select_dtypes(include='float').max()"
   ]
  },
  {
   "cell_type": "code",
   "execution_count": 266,
   "id": "502018c0",
   "metadata": {},
   "outputs": [
    {
     "data": {
      "text/plain": [
       "Melting Point           453.00\n",
       "Thermal Conductivity      0.02\n",
       "Density                  80.00\n",
       "Specific Heat             0.13\n",
       "dtype: float64"
      ]
     },
     "execution_count": 266,
     "metadata": {},
     "output_type": "execute_result"
    }
   ],
   "source": [
    "md1.select_dtypes(include='float').min()"
   ]
  },
  {
   "cell_type": "code",
   "execution_count": 265,
   "id": "fb1d7bb8",
   "metadata": {},
   "outputs": [
    {
     "data": {
      "text/html": [
       "<div>\n",
       "<style scoped>\n",
       "    .dataframe tbody tr th:only-of-type {\n",
       "        vertical-align: middle;\n",
       "    }\n",
       "\n",
       "    .dataframe tbody tr th {\n",
       "        vertical-align: top;\n",
       "    }\n",
       "\n",
       "    .dataframe thead th {\n",
       "        text-align: right;\n",
       "    }\n",
       "</style>\n",
       "<table border=\"1\" class=\"dataframe\">\n",
       "  <thead>\n",
       "    <tr style=\"text-align: right;\">\n",
       "      <th></th>\n",
       "      <th>Melting Point</th>\n",
       "      <th>Thermal Conductivity</th>\n",
       "      <th>Density</th>\n",
       "      <th>Specific Heat</th>\n",
       "    </tr>\n",
       "  </thead>\n",
       "  <tbody>\n",
       "    <tr>\n",
       "      <th>max</th>\n",
       "      <td>1670.000</td>\n",
       "      <td>237.000000</td>\n",
       "      <td>8238.000000</td>\n",
       "      <td>6.300000</td>\n",
       "    </tr>\n",
       "    <tr>\n",
       "      <th>min</th>\n",
       "      <td>453.000</td>\n",
       "      <td>0.020000</td>\n",
       "      <td>80.000000</td>\n",
       "      <td>0.130000</td>\n",
       "    </tr>\n",
       "    <tr>\n",
       "      <th>sum</th>\n",
       "      <td>16419.000</td>\n",
       "      <td>1971.160000</td>\n",
       "      <td>162491.000000</td>\n",
       "      <td>62.236000</td>\n",
       "    </tr>\n",
       "    <tr>\n",
       "      <th>count</th>\n",
       "      <td>24.000</td>\n",
       "      <td>66.000000</td>\n",
       "      <td>62.000000</td>\n",
       "      <td>48.000000</td>\n",
       "    </tr>\n",
       "    <tr>\n",
       "      <th>mean</th>\n",
       "      <td>684.125</td>\n",
       "      <td>29.866061</td>\n",
       "      <td>2620.822581</td>\n",
       "      <td>1.296583</td>\n",
       "    </tr>\n",
       "    <tr>\n",
       "      <th>median</th>\n",
       "      <td>649.500</td>\n",
       "      <td>0.195000</td>\n",
       "      <td>1100.000000</td>\n",
       "      <td>1.207500</td>\n",
       "    </tr>\n",
       "  </tbody>\n",
       "</table>\n",
       "</div>"
      ],
      "text/plain": [
       "        Melting Point  Thermal Conductivity        Density  Specific Heat\n",
       "max          1670.000            237.000000    8238.000000       6.300000\n",
       "min           453.000              0.020000      80.000000       0.130000\n",
       "sum         16419.000           1971.160000  162491.000000      62.236000\n",
       "count          24.000             66.000000      62.000000      48.000000\n",
       "mean          684.125             29.866061    2620.822581       1.296583\n",
       "median        649.500              0.195000    1100.000000       1.207500"
      ]
     },
     "execution_count": 265,
     "metadata": {},
     "output_type": "execute_result"
    }
   ],
   "source": [
    "md1.select_dtypes(include='float').agg([max, min, sum, 'count', np.mean, 'median'])"
   ]
  },
  {
   "cell_type": "code",
   "execution_count": null,
   "id": "56b55176",
   "metadata": {},
   "outputs": [],
   "source": []
  },
  {
   "cell_type": "code",
   "execution_count": null,
   "id": "11f585fd",
   "metadata": {},
   "outputs": [],
   "source": []
  },
  {
   "cell_type": "markdown",
   "id": "aa240f7c",
   "metadata": {},
   "source": [
    "def check_if_integer_values(df,column_name):\n",
    "    print('\\nIn the column:',column_name)\n",
    "    flag = 0\n",
    "    bad_indices = []\n",
    "    for index in range(0,len(df)):\n",
    "        element_value = df.loc[index,column_name]\n",
    "        condition_1 = isinstance(element_value, int)\n",
    "        condition_2 = isinstance(element_value, float)\n",
    "        if not condition_1 and not condition_2:\n",
    "            print('\\tindex = ', index,' Value = ', element_value, 'Not integer or float')\n",
    "            flag = 1\n",
    "            bad_indices.append(index)\n",
    "    if flag==0:\n",
    "        print('\\tAll values are integers or float')\n",
    "    else:\n",
    "        print(bad_indices)"
   ]
  },
  {
   "cell_type": "markdown",
   "id": "25763e7e",
   "metadata": {},
   "source": [
    "for element in col_bad_indices_dict:\n",
    "    if not col_bad_indices_dict[element]:\n",
    "        print(element, 'column has no bad data cells')\n",
    "    else:\n",
    "        print(element, 'column has bad data cells')\n",
    "        for bad_idx in col_bad_indices_dict[element]:\n",
    "            md1.drop(bad_idx, axis=0, inplace=True)\n",
    "        print(element, 'column bad data cells have been droped')\n",
    "md1 = md1.reset_index(drop=True)"
   ]
  },
  {
   "cell_type": "markdown",
   "id": "e6c1c2a9",
   "metadata": {},
   "source": [
    "print(format(md1.select_dtypes(include='float').max().values,'f'))\n",
    "print(md1.select_dtypes(include='float').min().values)"
   ]
  },
  {
   "cell_type": "code",
   "execution_count": 267,
   "id": "57fbb6b3",
   "metadata": {},
   "outputs": [
    {
     "data": {
      "text/plain": [
       "[]"
      ]
     },
     "execution_count": 267,
     "metadata": {},
     "output_type": "execute_result"
    }
   ],
   "source": [
    "list(md1[md1[element].map(type) == str].index.values)"
   ]
  },
  {
   "cell_type": "markdown",
   "id": "2eaec1bf",
   "metadata": {},
   "source": [
    "## XXXXXXXXXXXXXXXXXXXXXXXXXXXXXXXXXXXXXXXXXXXXXXXXXXXXXXXXXXXXX"
   ]
  },
  {
   "cell_type": "markdown",
   "id": "399500ab",
   "metadata": {},
   "source": [
    "# Version 2.0: Material Database with Search capabilities\n",
    "\n",
    "### Objective:\n",
    "1. Provide a **list of materials based on user** enteing following inputs:\n",
    "- material property\n",
    "- minimum acceptable value\n",
    "- maximum acceptable value\n",
    "2. Dataset contains 100 rows and following properties:\n",
    "- Melting point\n",
    "- Density\n",
    "- Thermal Conductivity\n",
    "- specific heat\n"
   ]
  },
  {
   "cell_type": "code",
   "execution_count": 60,
   "id": "fbc94dcb",
   "metadata": {},
   "outputs": [],
   "source": [
    "def mat_search(mat_property_user, mat_property_min_user, mat_property_max_user):\n",
    "    property_condition_1 = md1[mat_property_user] > mat_property_min_user\n",
    "    property_condition_2 = md1[mat_property_user] < mat_property_max_user\n",
    "    \n",
    "    found_materials = md1[(property_condition_1) & (property_condition_2)].sort_values(by= mat_property_user)\n",
    "    found_materials_user_property = found_materials.loc[:,['Material', mat_property_user]]\n",
    "    \n",
    "    return found_materials_user_property\n"
   ]
  },
  {
   "cell_type": "code",
   "execution_count": 79,
   "id": "12385a45",
   "metadata": {},
   "outputs": [],
   "source": [
    "def validate_property_index(property_index):\n",
    "    if property_index > len(numerical_data_columns):\n",
    "        flag = 0\n",
    "    elif property_index < 1:\n",
    "        flag = 0\n",
    "    else:\n",
    "        flag = 1\n",
    "    return flag"
   ]
  },
  {
   "cell_type": "code",
   "execution_count": 82,
   "id": "b621c105",
   "metadata": {},
   "outputs": [],
   "source": [
    "def validate_property_range(property_name_user, property_user_min_value, property_user_max_value):\n",
    "    flag = 1\n",
    "    \n",
    "    if property_user_min_value > property_user_max_value:\n",
    "        print('Please check if the maximum and minimum values are reversed')\n",
    "        flag = 0\n",
    "    if (property_user_min_value < md1[property_name_user].min()) and (property_user_max_value > md1[property_name_user].max()):\n",
    "        print('This range covers the entire Database')\n",
    "    if (property_user_min_value > md1[property_name_user].max()) or (property_user_max_value < md1[property_name_user].min()):\n",
    "        print('The range is not covered in the Database')\n",
    "        flag = 0\n",
    "        \n",
    "    return flag"
   ]
  },
  {
   "cell_type": "code",
   "execution_count": 93,
   "id": "eb9caf1d",
   "metadata": {},
   "outputs": [
    {
     "name": "stdout",
     "output_type": "stream",
     "text": [
      "1 Melting Point\n",
      "2 Thermal Conductivity\n",
      "3 Density\n",
      "4 Specific Heat\n",
      "\n",
      " From the list above enter the desired property index for material search: 3\n",
      "please enter the minimum value for Density: 400\n",
      "please enter the maximum value for Density: 5000\n",
      "\n",
      "                                Material  Density\n",
      "53                                  Fir    415.0\n",
      "60                           White Pine    435.0\n",
      "57                           pitch pine    450.0\n",
      "51                              Cypress    465.0\n",
      "58                             Softwood    510.0\n",
      "65                              Plywood    545.0\n",
      "49                                  Oak    545.0\n",
      "52                 Douglas Fir, Plywood    550.0\n",
      "64                    Particleboard, LD    590.0\n",
      "54                                  Fir    600.0\n",
      "61                          Yellow Pine    640.0\n",
      "48                             Mahogany    700.0\n",
      "47                             Hardwood    720.0\n",
      "56                       particle board    800.0\n",
      "62               Gypsum / Plaster Board    800.0\n",
      "29                        Polypropylene    880.0\n",
      "74                             Paraffin    900.0\n",
      "30                        Polypropylene    900.0\n",
      "25                     Polyethylene, LD    925.0\n",
      "26                     Polyethylene, MD    929.0\n",
      "73                                Paper    930.0\n",
      "23                         Polyethylene    955.0\n",
      "24                     Polyethylene, HD    959.0\n",
      "72                              Leather    998.0\n",
      "63                    Particleboard, HD   1000.0\n",
      "33                          Polystyrene   1045.0\n",
      "38                  Polyurethane, Rigid   1100.0\n",
      "42                         Rubber, Soft   1100.0\n",
      "43                                  SBR   1100.0\n",
      "21                                Nylon   1169.0\n",
      "76                     Refrigerant, R22   1183.0\n",
      "41                         Rubber, Hard   1190.0\n",
      "27               Polymethylmethacrylate   1190.0\n",
      "75                   Refrigerant, R134a   1198.0\n",
      "22                            Polyester   1345.0\n",
      "45                                Balsa   1740.0\n",
      "44                               Teflon   2200.0\n",
      "70                         Glass, Plate   2225.0\n",
      "71                         Glass, Pyrex   2500.0\n",
      "1                        Aluminum, 6061   2700.0\n",
      "5                        Aluminum, Pure   2702.0\n",
      "6                        Aluminum, Pure   2707.0\n",
      "3   Aluminum, Duralumin (4% Cu 0.5% Mg)   2770.0\n",
      "4   Aluminum, Duralumin (4% Cu 0.5% Mg)   2787.0\n",
      "2                        Aluminum, 7075   2800.0\n",
      "59                               Spruce   4410.0\n",
      "Do you want to search with another criteria: Enter y/n \n",
      "n\n",
      "your search is complete\n"
     ]
    }
   ],
   "source": [
    "while True:\n",
    "    \n",
    "    for serial in range(len(numerical_data_columns)):\n",
    "        print(serial+1, numerical_data_columns[serial])\n",
    "    \n",
    "    # user input for desired property\n",
    "    try:\n",
    "        property_index = int(input('\\n From the list above enter the desired property index for material search: '))\n",
    "    except Exception as e:\n",
    "        print(e)\n",
    "        print('Please enter a valid property index ')\n",
    "        continue\n",
    "        \n",
    "    property_list_index = property_index -1\n",
    "    \n",
    "    # validate the property index\n",
    "    property_index_flag = validate_property_index(property_index)\n",
    "    if property_index_flag == 0:\n",
    "        print('Please enter a valid property index ')\n",
    "        continue\n",
    "    \n",
    "    # user input for desired property range\n",
    "    property_user_min_value = float(input(f'please enter the minimum value for {numerical_data_columns[property_list_index]}: '))\n",
    "    property_user_max_value = float(input(f'please enter the maximum value for {numerical_data_columns[property_list_index]}: '))\n",
    "    \n",
    "    # validate_property_range\n",
    "    property_range_flag = validate_property_range(numerical_data_columns[property_list_index], property_user_min_value, property_user_max_value)\n",
    "    if property_range_flag == 0:\n",
    "        print('please check property range and start search again')\n",
    "        continue\n",
    "    \n",
    "    # search for materials with user specifed criteria\n",
    "    mat_search_result = mat_search(numerical_data_columns[property_list_index], property_user_min_value, property_user_max_value)\n",
    "    print('\\n',mat_search_result)\n",
    "    \n",
    "    #next search user input prompt\n",
    "    next_search_user_input = input('Do you want to search with another criteria: Enter y/n \\n')\n",
    "    if next_search_user_input != 'y' and next_search_user_input != 'n':\n",
    "        print('Please enter valid input')\n",
    "        next_search_user_input = input('Do you want to search with another criteria: Enter y/n \\n')\n",
    "    elif next_search_user_input == 'n':\n",
    "        print('your search is complete')\n",
    "        break\n",
    "    elif next_search_user_input == 'y':\n",
    "        continue\n",
    "        "
   ]
  },
  {
   "cell_type": "code",
   "execution_count": null,
   "id": "3e623ca8",
   "metadata": {},
   "outputs": [],
   "source": []
  }
 ],
 "metadata": {
  "kernelspec": {
   "display_name": "Python 3 (ipykernel)",
   "language": "python",
   "name": "python3"
  },
  "language_info": {
   "codemirror_mode": {
    "name": "ipython",
    "version": 3
   },
   "file_extension": ".py",
   "mimetype": "text/x-python",
   "name": "python",
   "nbconvert_exporter": "python",
   "pygments_lexer": "ipython3",
   "version": "3.9.15"
  }
 },
 "nbformat": 4,
 "nbformat_minor": 5
}
